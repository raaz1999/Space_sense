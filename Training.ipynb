{
  "nbformat": 4,
  "nbformat_minor": 0,
  "metadata": {
    "colab": {
      "provenance": []
    },
    "kernelspec": {
      "name": "python3",
      "display_name": "Python 3"
    },
    "language_info": {
      "name": "python"
    },
    "accelerator": "GPU",
    "gpuClass": "standard"
  },
  "cells": [
    {
      "cell_type": "markdown",
      "source": [
        "## Part 1 : Training"
      ],
      "metadata": {
        "id": "nYCc2mXYK6UZ"
      }
    },
    {
      "cell_type": "markdown",
      "source": [
        "In the following notebook, we experimented with different CNN architectures to improve the model's accuracy. We trained and evaluated the following two models: \n",
        "\n",
        "1-CNN with three layers for feature extraction \n",
        "\n",
        "2-Using the transfer learning approach with a pre-trained VGG model\n",
        "\n",
        "We selected the model with the highest accuracy on the validation dataset for further evaluation."
      ],
      "metadata": {
        "id": "0wJeEzMH-3Yv"
      }
    },
    {
      "cell_type": "markdown",
      "source": [
        "### Get libraries"
      ],
      "metadata": {
        "id": "Ax_QlLFvNvOj"
      }
    },
    {
      "cell_type": "code",
      "execution_count": 1,
      "metadata": {
        "colab": {
          "base_uri": "https://localhost:8080/"
        },
        "id": "cxqm6BvAJy1Y",
        "outputId": "efb7ae22-8cb8-4c77-fad4-b55d443daa83"
      },
      "outputs": [
        {
          "output_type": "stream",
          "name": "stdout",
          "text": [
            "Mounted at /content/gdrive/\n"
          ]
        }
      ],
      "source": [
        "from google.colab import drive\n",
        "\n",
        "drive.mount('/content/gdrive/', force_remount=True)"
      ]
    },
    {
      "cell_type": "code",
      "source": [
        "import torch \n",
        "from torchvision import datasets, io\n",
        "from torch.utils.data import Dataset, DataLoader\n",
        "import torchvision.transforms as transforms\n",
        "import torch.nn as nn\n",
        "import torch.nn.functional as F\n",
        "import torch.optim as optim\n",
        "import torchvision.models as models\n",
        "import os \n",
        "import matplotlib.pyplot as plt \n",
        "import numpy as np\n",
        "from torchsummary import summary\n",
        "import numpy as np\n",
        "import matplotlib.pyplot as plt\n",
        "from torch.nn.modules import transformer"
      ],
      "metadata": {
        "id": "IKeRfoAcLYOz"
      },
      "execution_count": 2,
      "outputs": []
    },
    {
      "cell_type": "code",
      "source": [
        "device=torch.device(\"cuda\" if torch.cuda.is_available() else \"cpu\")"
      ],
      "metadata": {
        "id": "ioAU-VRWGO26"
      },
      "execution_count": 3,
      "outputs": []
    },
    {
      "cell_type": "markdown",
      "source": [
        "## Now we load the data into tensors"
      ],
      "metadata": {
        "id": "Qi78Hk-xG3We"
      }
    },
    {
      "cell_type": "markdown",
      "source": [
        "$Note$: I loaded and extracted the data on my PC (which was much faster), and saved it as tensors (pt files). The following script is what I used to extract the data."
      ],
      "metadata": {
        "id": "UsUbljJJOhjP"
      }
    },
    {
      "cell_type": "code",
      "source": [
        "path_to_folder=\"/content/gdrive/MyDrive/space/2750\"\n",
        "targets=os.listdir(\"/content/gdrive/MyDrive/space/2750\")"
      ],
      "metadata": {
        "id": "fvaz0RX9GQlQ"
      },
      "execution_count": null,
      "outputs": []
    },
    {
      "cell_type": "markdown",
      "source": [
        "## Split the data into train, val and test set"
      ],
      "metadata": {
        "id": "8IB114VPnA7p"
      }
    },
    {
      "cell_type": "code",
      "source": [
        "# make sure that the total ratio is equal to 1\n",
        "TRAIN_RATIO=0.8\n",
        "TEST_RATIO=0.1\n",
        "VAL_RATIO=0.1\n",
        "\n",
        "assert TRAIN_RATIO+TEST_RATIO+VAL_RATIO==1, \"check if the sum of the ration is equal to 1\"\n",
        "\n",
        "# split the data into train, test, val sets\n",
        "train_data_set=[]\n",
        "test_data_set=[]\n",
        "val_data_set=[]\n",
        "\n",
        "train_labels_set=[]\n",
        "test_labels_set=[]\n",
        "val_labels_set=[]\n",
        "\n",
        "# we make sure that every data set contain all the labels, specialy in the train data set, so our model can see all diffrent corrrespending image to label\n",
        "\n",
        "for i in targets:\n",
        "    path=path_to_folder+\"/\"+i\n",
        "    label_size=len(os.listdir(path))\n",
        "\n",
        "    for c, j in enumerate(os.listdir(path)):\n",
        "        image=io.read_image(path+\"/\"+j)\n",
        "        if c<=TRAIN_RATIO*label_size:\n",
        "            train_data_set.append(image)\n",
        "            train_labels_set.append(targets.index(i))\n",
        "        elif c<(TRAIN_RATIO+TEST_RATIO)*label_size:\n",
        "            test_data_set.append(image)\n",
        "            test_labels_set.append(targets.index(i))\n",
        "        else : \n",
        "            val_data_set.append(image)\n",
        "            val_labels_set.append(targets.index(i))\n",
        "\n",
        "train_data_set=torch.stack(train_data_set)\n",
        "train_labels_set=torch.tensor(train_labels_set)\n",
        "test_data_set=torch.stack(test_data_set)\n",
        "test_labels_set=torch.tensor(test_labels_set)\n",
        "val_data_set=torch.stack(val_data_set)\n",
        "val_labels_set=torch.tensor(val_labels_set)"
      ],
      "metadata": {
        "id": "Q5R9yFRdGyF4"
      },
      "execution_count": null,
      "outputs": []
    },
    {
      "cell_type": "code",
      "source": [
        "train_data_set=torch.load(\"/content/gdrive/MyDrive/space/Sat_tensor/train_data.pt\").to(device)/255.0\n",
        "train_labels_set=torch.load(\"/content/gdrive/MyDrive/space/Sat_tensor/train_label.pt\").to(device)\n",
        "val_data_set=torch.load(\"/content/gdrive/MyDrive/space/Sat_tensor/val_data.pt\").to(device)/255.0\n",
        "val_labels_set=torch.load(\"/content/gdrive/MyDrive/space/Sat_tensor/val_label.pt\").to(device)"
      ],
      "metadata": {
        "id": "3m8wXbRVN3Ux"
      },
      "execution_count": null,
      "outputs": []
    },
    {
      "cell_type": "markdown",
      "source": [
        "### Put the dataset in a dataloader. Therefore, we need to create a custom dataset class."
      ],
      "metadata": {
        "id": "jBa89YzdPKuF"
      }
    },
    {
      "cell_type": "code",
      "source": [
        "class ImageDataset(Dataset): \n",
        "    def __init__(self, images, labels, transformer=None) -> None:\n",
        "        self.data=images\n",
        "        self.labels=labels\n",
        "        if transformer:\n",
        "          self.transformer=transformer\n",
        "        \n",
        "    def __len__(self): \n",
        "        return len(self.labels)\n",
        "        \n",
        "    def __getitem__(self, idx):\n",
        "\n",
        "        data=self.data[idx]\n",
        "        label=self.labels[idx]\n",
        "\n",
        "        if self.transformer:\n",
        "          data=self.transformer(data)\n",
        "        \n",
        "        \n",
        "        return self.data[idx], self.labels[idx]"
      ],
      "metadata": {
        "id": "56YAWA11I0N4"
      },
      "execution_count": null,
      "outputs": []
    },
    {
      "cell_type": "markdown",
      "source": [
        "possible data augmentation but i will use only the normalization"
      ],
      "metadata": {
        "id": "AnxKwzGgrYh8"
      }
    },
    {
      "cell_type": "code",
      "source": [
        "data_augmentation=transforms.Compose([\n",
        "    transforms.Normalize(mean=[0.485, 0.456, 0.406],\n",
        "                std=[0.229, 0.224, 0.225]),\n",
        "    transforms.RandomHorizontalFlip(p=0.5),\n",
        "    transforms.RandomVerticalFlip(p=0.5),\n",
        "    transforms.RandomGrayscale(p=0.1)\n",
        "])\n",
        "\n",
        "norm=transforms.Compose([transforms.Normalize(mean=[0.485, 0.456, 0.406],\n",
        "                std=[0.229, 0.224, 0.225]),\n",
        "                \n",
        "                ])"
      ],
      "metadata": {
        "id": "IdAI0ma1KXGW"
      },
      "execution_count": null,
      "outputs": []
    },
    {
      "cell_type": "code",
      "source": [
        "BATCH_SIZE=32\n",
        "\n",
        "SAT_train_v1=ImageDataset(train_data_set, train_labels_set, norm)\n",
        "SAT_val_v1=ImageDataset(val_data_set, val_labels_set, norm)\n",
        "\n",
        "SAT_train=DataLoader(SAT_train_v1, batch_size=BATCH_SIZE, shuffle=True)\n",
        "SAT_val=DataLoader(SAT_val_v1, batch_size=BATCH_SIZE, shuffle=True)"
      ],
      "metadata": {
        "id": "CMT_zRTgPN_2"
      },
      "execution_count": null,
      "outputs": []
    },
    {
      "cell_type": "markdown",
      "source": [
        "## Let's make our first model"
      ],
      "metadata": {
        "id": "JVPdC6uAP0gZ"
      }
    },
    {
      "cell_type": "markdown",
      "source": [
        "Some explanations on the model parameters : \n",
        "* padding equals 1 This ensures that the output feature maps have the same spatial size as the input data, which helps to preserve important spatial information through the layers of the network.\n",
        "* Batchnorm to normalize the output of each layer therefor the weight, also it's well now for it fast convergence \n",
        "* Max pooling is particularly useful for preserving spatial invariance, which is important in satellite image processing, but its not a rule just a suggestion that could be usefull."
      ],
      "metadata": {
        "id": "9HkRl5G2Pycy"
      }
    },
    {
      "cell_type": "code",
      "source": [
        "class SAT_CNN(nn.Module): \n",
        "    def __init__(self) -> None:\n",
        "        super().__init__()\n",
        "\n",
        "        self.features=nn.Sequential(\n",
        "            #1\n",
        "            nn.Conv2d(3, 32, (3,3), stride=1, padding=1),\n",
        "            nn.BatchNorm2d(32),\n",
        "            nn.ReLU(),\n",
        "            nn.MaxPool2d((2, 2), stride=1, padding=0),\n",
        "            #2\n",
        "            nn.Conv2d(32, 64, (3,3), stride=1, padding=1), \n",
        "            nn.BatchNorm2d(64),\n",
        "            nn.ReLU(),\n",
        "            nn.MaxPool2d((2, 2), stride=1, padding=0),\n",
        "            #3\n",
        "            nn.Conv2d(64, 128, (3,3), stride=1, padding=1), \n",
        "            nn.BatchNorm2d(128),\n",
        "            nn.ReLU(),\n",
        "            nn.MaxPool2d((2, 2), stride=1, padding=0),\n",
        "        ).to(device)\n",
        "\n",
        "        self.classifier=nn.Sequential(\n",
        "            nn.Linear(476288, 1024),\n",
        "            nn.ReLU(),\n",
        "            nn.Dropout(),\n",
        "            nn.Linear(1024, 128),\n",
        "            nn.ReLU(),\n",
        "            nn.Dropout(),\n",
        "            nn.Linear(128, 10),\n",
        "        ).to(device)\n",
        "\n",
        "\n",
        "    def forward(self, x):\n",
        "\n",
        "        if len(x.shape)==3:\n",
        "            x=torch.unsqueeze(x, 0) # pour le cas d'une seul image \n",
        "\n",
        "        features=self.features(x)\n",
        "        flat=torch.flatten(features,1)\n",
        "        results=self.classifier(flat)\n",
        "        return results"
      ],
      "metadata": {
        "id": "r8pD7wSdP1xs"
      },
      "execution_count": null,
      "outputs": []
    },
    {
      "cell_type": "code",
      "source": [
        "mdl=SAT_CNN()\n",
        "learning_rate=1e-4 # with the amount of parameters we should lower the learning rate\n",
        "\n",
        "loss_fn=nn.CrossEntropyLoss()\n",
        "optimizer=optim.Adam(mdl.parameters(), lr=learning_rate)\n",
        "# we add a shedullar\n",
        "lr_scheduler=torch.optim.lr_scheduler.StepLR(optimizer, step_size=10, gamma=1.1)"
      ],
      "metadata": {
        "id": "bT8hFJo3QT_S"
      },
      "execution_count": null,
      "outputs": []
    },
    {
      "cell_type": "markdown",
      "source": [
        "### Train our model"
      ],
      "metadata": {
        "id": "hwBKbkTWQW7_"
      }
    },
    {
      "cell_type": "code",
      "source": [
        "EPOCHS=30"
      ],
      "metadata": {
        "id": "rDOcosbdQVWw"
      },
      "execution_count": null,
      "outputs": []
    },
    {
      "cell_type": "code",
      "source": [
        "def train(mdl, loss_fn, optimizer,epochs=100, lr_scheduler=None):\n",
        "  loss_list=[]\n",
        "  accuracy_val=[]\n",
        "  accuracy_train=[]\n",
        "\n",
        "  for i in range(epochs):\n",
        "      loss_perepoch=[]\n",
        "      accuracy_perepoch=[]\n",
        "      accuracy_train_perepoch=[]\n",
        "\n",
        "      for k, j in enumerate(SAT_train):\n",
        "          data, labels=j\n",
        "          optimizer.zero_grad()\n",
        "          outputs=mdl(data)\n",
        "          loss=loss_fn(outputs, labels)\n",
        "          loss.backward()\n",
        "\n",
        "          loss_perepoch.append(float(loss.detach()))\n",
        "          optimizer.step()\n",
        "\n",
        "          _, outputs=torch.max(outputs, 1)\n",
        "          accuracy_train_perepoch.append(outputs.eq(labels))\n",
        "\n",
        "      if lr_scheduler:\n",
        "        lr_scheduler.step()\n",
        "\n",
        "      accuracy_train_perepoch=torch.concat(accuracy_train_perepoch)\n",
        "      accuracy_train.append((accuracy_train_perepoch.sum().item())/len(accuracy_train_perepoch))\n",
        "\n",
        "      loss_list.append(sum(loss_perepoch)/len(loss_perepoch))\n",
        "      \n",
        "      for k,j in enumerate(SAT_val):\n",
        "          data, labels=j\n",
        "\n",
        "          with torch.no_grad():\n",
        "              outputs=mdl(data)\n",
        "              _, outputs=torch.max(outputs, 1)\n",
        "\n",
        "              accuracy_perepoch.append(outputs.eq(labels))\n",
        "\n",
        "      accuracy_perepoch=torch.concat(accuracy_perepoch)\n",
        "      accuracy_val.append((accuracy_perepoch.sum().item())/len(accuracy_perepoch))\n",
        "          \n",
        "\n",
        "      print(f\"epoch : {i}, loss: {sum(loss_perepoch)/len(loss_perepoch)}, accuracy: {(accuracy_perepoch.sum().item())/len(accuracy_perepoch)}\")\n",
        "\n",
        "  return loss_list, accuracy_val, accuracy_train"
      ],
      "metadata": {
        "id": "NqmPhjMDQZ72"
      },
      "execution_count": null,
      "outputs": []
    },
    {
      "cell_type": "code",
      "source": [
        "loss, accuracy_val, accuracy_train=train(mdl, loss_fn, optimizer, epochs=EPOCHS)\n",
        "torch.save(mdl.state_dict(), \"/content/gdrive/MyDrive/space/model_1.pth\")"
      ],
      "metadata": {
        "colab": {
          "base_uri": "https://localhost:8080/"
        },
        "id": "J1JNAPOBABPM",
        "outputId": "4978c1f3-c2c6-4132-e6c3-f09d7d0bc7e5"
      },
      "execution_count": null,
      "outputs": [
        {
          "output_type": "stream",
          "name": "stdout",
          "text": [
            "epoch : 0, loss: 2.0201617429947714, accuracy: 0.5103703703703704\n",
            "epoch : 1, loss: 1.2812490512633465, accuracy: 0.6151851851851852\n",
            "epoch : 2, loss: 1.0879776282952383, accuracy: 0.6566666666666666\n",
            "epoch : 3, loss: 0.9677409808311237, accuracy: 0.6896296296296296\n",
            "epoch : 4, loss: 0.8434181165765728, accuracy: 0.7325925925925926\n",
            "epoch : 5, loss: 0.7699605670906383, accuracy: 0.7422222222222222\n",
            "epoch : 6, loss: 0.729121720649787, accuracy: 0.7796296296296297\n",
            "epoch : 7, loss: 0.6675740800268904, accuracy: 0.772962962962963\n",
            "epoch : 8, loss: 0.6312966898921326, accuracy: 0.78\n",
            "epoch : 9, loss: 0.5787533293946607, accuracy: 0.8\n",
            "epoch : 10, loss: 0.5516216011839152, accuracy: 0.8096296296296296\n",
            "epoch : 11, loss: 0.5258607148418765, accuracy: 0.8114814814814815\n",
            "epoch : 12, loss: 0.5103712225850869, accuracy: 0.8174074074074074\n",
            "epoch : 13, loss: 0.4719099172738177, accuracy: 0.8162962962962963\n",
            "epoch : 14, loss: 0.45109186626794423, accuracy: 0.8207407407407408\n",
            "epoch : 15, loss: 0.43029503389289214, accuracy: 0.8222222222222222\n",
            "epoch : 16, loss: 0.4311226814015377, accuracy: 0.8237037037037037\n",
            "epoch : 17, loss: 0.39359682536072277, accuracy: 0.8288888888888889\n",
            "epoch : 18, loss: 0.3731991584914235, accuracy: 0.8418518518518519\n",
            "epoch : 19, loss: 0.3649615837624792, accuracy: 0.8348148148148148\n",
            "epoch : 20, loss: 0.35199866853323736, accuracy: 0.8414814814814815\n",
            "epoch : 21, loss: 0.3381476154352522, accuracy: 0.8277777777777777\n",
            "epoch : 22, loss: 0.3421359660445586, accuracy: 0.837037037037037\n",
            "epoch : 23, loss: 0.3252172424601248, accuracy: 0.8366666666666667\n",
            "epoch : 24, loss: 0.3124572948839229, accuracy: 0.8248148148148148\n",
            "epoch : 25, loss: 0.2928523846940529, accuracy: 0.8381481481481482\n",
            "epoch : 26, loss: 0.2900992302229551, accuracy: 0.8474074074074074\n",
            "epoch : 27, loss: 0.29466567359060136, accuracy: 0.835925925925926\n",
            "epoch : 28, loss: 0.27821949005854374, accuracy: 0.8514814814814815\n",
            "epoch : 29, loss: 0.2608526078405509, accuracy: 0.8381481481481482\n"
          ]
        }
      ]
    },
    {
      "cell_type": "code",
      "source": [
        "plt.figure(figsize=(20,6))\n",
        "plt.subplot(1,2,1)\n",
        "plt.plot(np.array(loss))\n",
        "plt.legend([\"train_loss\"])\n",
        "plt.subplot(1,2,2)\n",
        "plt.plot(np.array(accuracy_train))\n",
        "plt.plot(np.array(accuracy_val))\n",
        "plt.legend([\"accuracy_train\",\" accuracy_val\"])"
      ],
      "metadata": {
        "colab": {
          "base_uri": "https://localhost:8080/",
          "height": 392
        },
        "id": "dKQ2Z-VojD2X",
        "outputId": "d1d7732f-fc80-4c21-900b-aab7584c9711"
      },
      "execution_count": null,
      "outputs": [
        {
          "output_type": "execute_result",
          "data": {
            "text/plain": [
              "<matplotlib.legend.Legend at 0x7fc724ab09a0>"
            ]
          },
          "metadata": {},
          "execution_count": 15
        },
        {
          "output_type": "display_data",
          "data": {
            "text/plain": [
              "<Figure size 1440x432 with 2 Axes>"
            ],
            "image/png": "[encoded data removed]"
          },
          "metadata": {
            "needs_background": "light"
          }
        }
      ]
    },
    {
      "cell_type": "markdown",
      "source": [
        "with lr_shedular (i could't try it because of the gpu limitation)"
      ],
      "metadata": {
        "id": "iKcjPzE_dgRI"
      }
    },
    {
      "cell_type": "code",
      "source": [
        "mdl_2=SAT_CNN()\n",
        "learning_rate=1e-4 # with the amount of parameters we should lower the learning rate\n",
        "\n",
        "loss_fn=nn.CrossEntropyLoss()\n",
        "optimizer=optim.Adam(mdl_2.parameters(), lr=learning_rate)\n",
        "# we add a shedullar\n",
        "lr_scheduler=torch.optim.lr_scheduler.StepLR(optimizer, step_size=10, gamma=1.1)\n",
        "\n",
        "\n",
        "loss_lr, accuracy_val_lr, accuracy_train_lr=train(mdl_2, loss_fn, optimizer, epochs=EPOCHS, lr_scheduler=lr_scheduler)"
      ],
      "metadata": {
        "id": "KZyBXg6YdkXD"
      },
      "execution_count": null,
      "outputs": []
    },
    {
      "cell_type": "code",
      "source": [
        "plt.figure(figsize=(20,6))\n",
        "plt.subplot(1,2,1)\n",
        "plt.plot(np.array(loss_lr))\n",
        "plt.legend([\"train_loss\"])\n",
        "plt.subplot(1,2,2)\n",
        "plt.plot(np.array(accuracy_train_lr))\n",
        "plt.plot(np.array(accuracy_val_lr))\n",
        "plt.legend([\"accuracy_train\",\" accuracy_val\"])"
      ],
      "metadata": {
        "id": "1cIb3IvwwHkz"
      },
      "execution_count": null,
      "outputs": []
    },
    {
      "cell_type": "markdown",
      "source": [
        "## Second test : Transfer Learning "
      ],
      "metadata": {
        "id": "DgK5TQMDYz2i"
      }
    },
    {
      "cell_type": "markdown",
      "source": [
        "We initialized our model's feature extraction layers with those of the VGG model, which had been pre-trained on the Imagenet dataset (1k labels). This technique can significantly speed up the optimization of the model. Moreover, the pre-trained part can help the model capture features that it might not otherwise have been able to learn through standard training."
      ],
      "metadata": {
        "id": "CRnqmSoOAr9B"
      }
    },
    {
      "cell_type": "code",
      "source": [
        "class Trans_Vgg(nn.Module):\n",
        "  def __init__(self, transformers=None) -> None:\n",
        "      super().__init__()\n",
        "      vgg=models.vgg16(weights='IMAGENET1K_V1')\n",
        "\n",
        "      self.features=nn.Sequential(*vgg.features.children()).to(device)\n",
        "\n",
        "      self.classifier=nn.Sequential(\n",
        "            nn.Linear(2048, 128),\n",
        "            nn.ReLU(),\n",
        "            nn.Dropout(),\n",
        "            nn.Linear(128, 64),\n",
        "            nn.ReLU(),\n",
        "            nn.Dropout(),\n",
        "            nn.Linear(64, 10),\n",
        "        ).to(device)\n",
        "        \n",
        "      if transformers:\n",
        "          self.trans=transformers\n",
        "\n",
        "    \n",
        "  def forward(self, x):\n",
        "\n",
        "        if len(x.shape)==3:\n",
        "            x=torch.unsqueeze(x, 0) # pour le cas d'une seul image \n",
        "\n",
        "        features=self.features(x)\n",
        "        flat=torch.flatten(features,1)\n",
        "        results=self.classifier(flat)\n",
        "        return results"
      ],
      "metadata": {
        "id": "uRNgwLv29KFr"
      },
      "execution_count": null,
      "outputs": []
    },
    {
      "cell_type": "code",
      "source": [
        "mdl_2=Trans_Vgg()\n",
        "learning_rate=1e-4  # with the amount of parameters we should lower the learning rate\n",
        "\n",
        "loss_fn=nn.CrossEntropyLoss()\n",
        "optimizer=optim.Adam(mdl_2.parameters(), lr=learning_rate)\n",
        "# we add a shedullar\n",
        "lr_scheduler=torch.optim.lr_scheduler.StepLR(optimizer, step_size=10, gamma=1.1)"
      ],
      "metadata": {
        "id": "TwwTLB9T8YZm"
      },
      "execution_count": null,
      "outputs": []
    },
    {
      "cell_type": "code",
      "source": [
        "loss_vgg, accuracy_val_vgg, accuracy_train_vgg=train(mdl_2, loss_fn, optimizer, epochs=EPOCHS)\n",
        "torch.save(mdl.state_dict(), \"/content/gdrive/MyDrive/space/model_vgg.pth\")"
      ],
      "metadata": {
        "colab": {
          "base_uri": "https://localhost:8080/",
          "height": 729
        },
        "id": "mcW-Qm2jHNsH",
        "outputId": "d1e0ada7-a889-4c3d-a980-f1d018e05964"
      },
      "execution_count": null,
      "outputs": [
        {
          "output_type": "stream",
          "name": "stdout",
          "text": [
            "epoch : 0, loss: 0.803491671784566, accuracy: 0.9162962962962963\n",
            "epoch : 1, loss: 0.3217924160961359, accuracy: 0.937037037037037\n",
            "epoch : 2, loss: 0.22768200964173688, accuracy: 0.9396296296296296\n",
            "epoch : 3, loss: 0.17956150068244317, accuracy: 0.945925925925926\n",
            "epoch : 4, loss: 0.15084987573605307, accuracy: 0.9688888888888889\n",
            "epoch : 5, loss: 0.12849951370759763, accuracy: 0.965925925925926\n",
            "epoch : 6, loss: 0.1304977775886159, accuracy: 0.9492592592592592\n",
            "epoch : 7, loss: 0.09448651210877654, accuracy: 0.9629629629629629\n",
            "epoch : 8, loss: 0.09186920074665245, accuracy: 0.9655555555555555\n",
            "epoch : 9, loss: 0.08697630794627245, accuracy: 0.9677777777777777\n",
            "epoch : 10, loss: 0.07179579068936742, accuracy: 0.967037037037037\n",
            "epoch : 11, loss: 0.08839643979844417, accuracy: 0.9629629629629629\n",
            "epoch : 12, loss: 0.05195867996615066, accuracy: 0.9725925925925926\n",
            "epoch : 13, loss: 0.059360184583589035, accuracy: 0.9685185185185186\n",
            "epoch : 14, loss: 0.06951568462362924, accuracy: 0.965925925925926\n",
            "epoch : 15, loss: 0.05233229498932852, accuracy: 0.9674074074074074\n",
            "epoch : 16, loss: 0.060301628780768605, accuracy: 0.9525925925925925\n",
            "epoch : 17, loss: 0.04114058287379424, accuracy: 0.9677777777777777\n",
            "epoch : 18, loss: 0.0403702760348301, accuracy: 0.955925925925926\n",
            "epoch : 19, loss: 0.043486772309911, accuracy: 0.8925925925925926\n",
            "epoch : 20, loss: 0.05552934779662932, accuracy: 0.9681481481481482\n",
            "epoch : 21, loss: 0.03257312272302736, accuracy: 0.9662962962962963\n",
            "epoch : 22, loss: 0.04952471207988466, accuracy: 0.9674074074074074\n",
            "epoch : 23, loss: 0.03465912502336473, accuracy: 0.9685185185185186\n",
            "epoch : 24, loss: 0.028320825429734305, accuracy: 0.9651851851851851\n",
            "epoch : 25, loss: 0.04657263154572131, accuracy: 0.9648148148148148\n",
            "epoch : 26, loss: 0.029524714291346957, accuracy: 0.9637037037037037\n",
            "epoch : 27, loss: 0.03495569448519616, accuracy: 0.9711111111111111\n",
            "epoch : 28, loss: 0.026893118637334738, accuracy: 0.9537037037037037\n",
            "epoch : 29, loss: 0.034184148887919145, accuracy: 0.9725925925925926\n"
          ]
        },
        {
          "output_type": "error",
          "ename": "NameError",
          "evalue": "ignored",
          "traceback": [
            "\u001b[0;31m---------------------------------------------------------------------------\u001b[0m",
            "\u001b[0;31mNameError\u001b[0m                                 Traceback (most recent call last)",
            "\u001b[0;32m<ipython-input-24-f008b37a3e95>\u001b[0m in \u001b[0;36m<module>\u001b[0;34m\u001b[0m\n\u001b[1;32m      1\u001b[0m \u001b[0mloss_vgg\u001b[0m\u001b[0;34m,\u001b[0m \u001b[0maccuracy_val_vgg\u001b[0m\u001b[0;34m,\u001b[0m \u001b[0maccuracy_train_vgg\u001b[0m\u001b[0;34m=\u001b[0m\u001b[0mtrain\u001b[0m\u001b[0;34m(\u001b[0m\u001b[0mmdl_2\u001b[0m\u001b[0;34m,\u001b[0m \u001b[0mloss_fn\u001b[0m\u001b[0;34m,\u001b[0m \u001b[0moptimizer\u001b[0m\u001b[0;34m,\u001b[0m \u001b[0mepochs\u001b[0m\u001b[0;34m=\u001b[0m\u001b[0mEPOCHS\u001b[0m\u001b[0;34m)\u001b[0m\u001b[0;34m\u001b[0m\u001b[0;34m\u001b[0m\u001b[0m\n\u001b[0;32m----> 2\u001b[0;31m \u001b[0mtorch\u001b[0m\u001b[0;34m.\u001b[0m\u001b[0msave\u001b[0m\u001b[0;34m(\u001b[0m\u001b[0mmdl\u001b[0m\u001b[0;34m.\u001b[0m\u001b[0mstate_dict\u001b[0m\u001b[0;34m(\u001b[0m\u001b[0;34m)\u001b[0m\u001b[0;34m,\u001b[0m \u001b[0;34m\"/content/gdrive/MyDrive/space/model_vgg.pth\"\u001b[0m\u001b[0;34m)\u001b[0m\u001b[0;34m\u001b[0m\u001b[0;34m\u001b[0m\u001b[0m\n\u001b[0m",
            "\u001b[0;31mNameError\u001b[0m: name 'mdl' is not defined"
          ]
        }
      ]
    },
    {
      "cell_type": "code",
      "source": [
        "torch.save(mdl_2.state_dict(), \"/content/gdrive/MyDrive/space/model_vgg.pth\")"
      ],
      "metadata": {
        "id": "mq-MVUdihxHw"
      },
      "execution_count": null,
      "outputs": []
    },
    {
      "cell_type": "code",
      "source": [
        "plt.figure(figsize=(20,6))\n",
        "plt.subplot(1,2,1)\n",
        "plt.plot(np.array(loss_vgg))\n",
        "plt.legend([\"train_loss\"])\n",
        "plt.subplot(1,2,2)\n",
        "plt.plot(np.array(accuracy_train_vgg))\n",
        "plt.plot(np.array(accuracy_val_vgg))\n",
        "plt.legend([\"accuracy_train\",\" accuracy_val\"])"
      ],
      "metadata": {
        "colab": {
          "base_uri": "https://localhost:8080/",
          "height": 392
        },
        "id": "3pyUuWbZZM3k",
        "outputId": "5ca34df9-1688-4f50-e578-d5ab4c056d35"
      },
      "execution_count": null,
      "outputs": [
        {
          "output_type": "execute_result",
          "data": {
            "text/plain": [
              "<matplotlib.legend.Legend at 0x7fc68232c100>"
            ]
          },
          "metadata": {},
          "execution_count": 26
        },
        {
          "output_type": "display_data",
          "data": {
            "text/plain": [
              "<Figure size 1440x432 with 2 Axes>"
            ],
            "image/png": "[encoded data removed]"
          },
          "metadata": {
            "needs_background": "light"
          }
        }
      ]
    },
    {
      "cell_type": "markdown",
      "source": [
        "Based on the results on the validation dataset and the reduced overfitting, I believe that the model utilizing the pre-trained VGG architecture is superior. It converges faster to the solution and demonstrates less overfitting compared to the previous model."
      ],
      "metadata": {
        "id": "NGGU3V8zoa7w"
      }
    },
    {
      "cell_type": "markdown",
      "source": [
        "Constraints of the current solution:\n",
        "\n",
        "* The model has a slow training process, especially without transfer learning.\n",
        "* Overfitting is observed, where the accuracy of the train set is higher than that of the validation set.\n",
        "* The model struggles to differentiate similar images, such as pastures and a green lake.\n",
        "\n",
        "Potential improvements to the solution:\n",
        "\n",
        "* Implement Optuna, a library that can test different parameters such as the learning rate, number of layers, etc., to find the optimal solution.\n",
        "* Explore other pre-trained models for transfer learning, such as ResNet, that are trained on similar topics and may improve the model's performance.\n",
        "* Increase the available GPU resources to speed up the model's training and testing process.\n",
        "* Apply data augmentation techniques such as horizontal flip, grayscale, etc. to increase the number of samples and gather more information about the labels with lower examples."
      ],
      "metadata": {
        "id": "8q4EJHksrJFU"
      }
    }
  ]
}